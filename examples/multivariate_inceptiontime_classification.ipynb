{
 "cells": [
  {
   "cell_type": "markdown",
   "metadata": {},
   "source": [
    "# Multi-variate time series classification with sktime-dl\n",
    "[Github](https://github.com/sktime/sktime-dl)\n",
    "\n",
    "In this notebook, we use sktime-dl to perform for multi-variate time series classification by deep learning."
   ]
  },
  {
   "cell_type": "code",
   "execution_count": 1,
   "metadata": {},
   "outputs": [],
   "source": [
    "import numpy as np\n",
    "import pandas as pd\n",
    "import matplotlib.pyplot as plt\n",
    "import seaborn as sns\n",
    "\n",
    "from sklearn.model_selection import GridSearchCV\n",
    "from sktime.datasets import load_basic_motions\n",
    "from sktime.classification.deep_learning.inceptiontime import InceptionTimeClassifier\n",
    "\n",
    "sns.set_style('whitegrid') "
   ]
  },
  {
   "cell_type": "markdown",
   "metadata": {},
   "source": [
    "# Load a dataset\n",
    "The Basic Motions dataset, from [timeseriesclassification.com](http://www.timeseriesclassification.com), has time series in six dimensions."
   ]
  },
  {
   "cell_type": "code",
   "execution_count": 2,
   "metadata": {},
   "outputs": [
    {
     "name": "stdout",
     "output_type": "stream",
     "text": [
      "(40, 6)\n",
      "(40, 6)\n"
     ]
    },
    {
     "data": {
      "text/plain": "                                               dim_0  \\\n0  0     0.079106\n1     0.079106\n2    -0.903497\n3...   \n1  0     0.377751\n1     0.377751\n2     2.952965\n3...   \n2  0    -0.813905\n1    -0.813905\n2    -0.424628\n3...   \n3  0     0.289855\n1     0.289855\n2    -0.669185\n3...   \n4  0    -0.123238\n1    -0.123238\n2    -0.249547\n3...   \n\n                                               dim_1  \\\n0  0     0.394032\n1     0.394032\n2    -3.666397\n3...   \n1  0    -0.610850\n1    -0.610850\n2     0.970717\n3...   \n2  0     0.825666\n1     0.825666\n2    -1.305033\n3...   \n3  0     0.284130\n1     0.284130\n2    -0.210466\n3...   \n4  0     0.379341\n1     0.379341\n2     0.541501\n3...   \n\n                                               dim_2  \\\n0  0     0.551444\n1     0.551444\n2    -0.282844\n3...   \n1  0    -0.147376\n1    -0.147376\n2    -5.962515\n3...   \n2  0     0.032712\n1     0.032712\n2     0.826170\n3...   \n3  0     0.213680\n1     0.213680\n2     0.252267\n3...   \n4  0    -0.286006\n1    -0.286006\n2     0.208420\n3...   \n\n                                               dim_3  \\\n0  0     0.351565\n1     0.351565\n2    -0.095881\n3...   \n1  0    -0.103872\n1    -0.103872\n2    -7.593275\n3...   \n2  0     0.021307\n1     0.021307\n2    -0.372872\n3...   \n3  0    -0.314278\n1    -0.314278\n2     0.018644\n3...   \n4  0    -0.098545\n1    -0.098545\n2    -0.023970\n3...   \n\n                                               dim_4  \\\n0  0     0.023970\n1     0.023970\n2    -0.319605\n3...   \n1  0    -0.109198\n1    -0.109198\n2    -0.697804\n3...   \n2  0     0.122515\n1     0.122515\n2    -0.045277\n3...   \n3  0     0.074574\n1     0.074574\n2     0.007990\n3...   \n4  0     0.058594\n1     0.058594\n2     0.175783\n3...   \n\n                                               dim_5  \n0  0     0.633883\n1     0.633883\n2     0.972131\n3...  \n1  0    -0.037287\n1    -0.037287\n2    -2.865789\n3...  \n2  0     0.775041\n1     0.775041\n2     0.383526\n3...  \n3  0    -0.079901\n1    -0.079901\n2     0.237040\n3...  \n4  0    -0.074574\n1    -0.074574\n2     0.114525\n3...  ",
      "text/html": "<div>\n<style scoped>\n    .dataframe tbody tr th:only-of-type {\n        vertical-align: middle;\n    }\n\n    .dataframe tbody tr th {\n        vertical-align: top;\n    }\n\n    .dataframe thead th {\n        text-align: right;\n    }\n</style>\n<table border=\"1\" class=\"dataframe\">\n  <thead>\n    <tr style=\"text-align: right;\">\n      <th></th>\n      <th>dim_0</th>\n      <th>dim_1</th>\n      <th>dim_2</th>\n      <th>dim_3</th>\n      <th>dim_4</th>\n      <th>dim_5</th>\n    </tr>\n  </thead>\n  <tbody>\n    <tr>\n      <th>0</th>\n      <td>0     0.079106\n1     0.079106\n2    -0.903497\n3...</td>\n      <td>0     0.394032\n1     0.394032\n2    -3.666397\n3...</td>\n      <td>0     0.551444\n1     0.551444\n2    -0.282844\n3...</td>\n      <td>0     0.351565\n1     0.351565\n2    -0.095881\n3...</td>\n      <td>0     0.023970\n1     0.023970\n2    -0.319605\n3...</td>\n      <td>0     0.633883\n1     0.633883\n2     0.972131\n3...</td>\n    </tr>\n    <tr>\n      <th>1</th>\n      <td>0     0.377751\n1     0.377751\n2     2.952965\n3...</td>\n      <td>0    -0.610850\n1    -0.610850\n2     0.970717\n3...</td>\n      <td>0    -0.147376\n1    -0.147376\n2    -5.962515\n3...</td>\n      <td>0    -0.103872\n1    -0.103872\n2    -7.593275\n3...</td>\n      <td>0    -0.109198\n1    -0.109198\n2    -0.697804\n3...</td>\n      <td>0    -0.037287\n1    -0.037287\n2    -2.865789\n3...</td>\n    </tr>\n    <tr>\n      <th>2</th>\n      <td>0    -0.813905\n1    -0.813905\n2    -0.424628\n3...</td>\n      <td>0     0.825666\n1     0.825666\n2    -1.305033\n3...</td>\n      <td>0     0.032712\n1     0.032712\n2     0.826170\n3...</td>\n      <td>0     0.021307\n1     0.021307\n2    -0.372872\n3...</td>\n      <td>0     0.122515\n1     0.122515\n2    -0.045277\n3...</td>\n      <td>0     0.775041\n1     0.775041\n2     0.383526\n3...</td>\n    </tr>\n    <tr>\n      <th>3</th>\n      <td>0     0.289855\n1     0.289855\n2    -0.669185\n3...</td>\n      <td>0     0.284130\n1     0.284130\n2    -0.210466\n3...</td>\n      <td>0     0.213680\n1     0.213680\n2     0.252267\n3...</td>\n      <td>0    -0.314278\n1    -0.314278\n2     0.018644\n3...</td>\n      <td>0     0.074574\n1     0.074574\n2     0.007990\n3...</td>\n      <td>0    -0.079901\n1    -0.079901\n2     0.237040\n3...</td>\n    </tr>\n    <tr>\n      <th>4</th>\n      <td>0    -0.123238\n1    -0.123238\n2    -0.249547\n3...</td>\n      <td>0     0.379341\n1     0.379341\n2     0.541501\n3...</td>\n      <td>0    -0.286006\n1    -0.286006\n2     0.208420\n3...</td>\n      <td>0    -0.098545\n1    -0.098545\n2    -0.023970\n3...</td>\n      <td>0     0.058594\n1     0.058594\n2     0.175783\n3...</td>\n      <td>0    -0.074574\n1    -0.074574\n2     0.114525\n3...</td>\n    </tr>\n  </tbody>\n</table>\n</div>"
     },
     "execution_count": 2,
     "metadata": {},
     "output_type": "execute_result"
    }
   ],
   "source": [
    "X_train, y_train = load_basic_motions(split='train', return_X_y=True)\n",
    "X_test, y_test = load_basic_motions(split='test', return_X_y=True)\n",
    "print(X_train.shape)\n",
    "print(X_test.shape)\n",
    "X_train.head()"
   ]
  },
  {
   "cell_type": "code",
   "execution_count": 3,
   "metadata": {},
   "outputs": [
    {
     "data": {
      "text/plain": "array(['badminton', 'running', 'standing', 'walking'], dtype='<U9')"
     },
     "execution_count": 3,
     "metadata": {},
     "output_type": "execute_result"
    }
   ],
   "source": [
    "# The class labels\n",
    "np.unique(y_train)"
   ]
  },
  {
   "cell_type": "markdown",
   "metadata": {},
   "source": [
    "# Train a deep neural network classifier\n",
    "Here we choose to use the CNN (convolutional neural network) classifier. Other classifiers provided by sktime-dl include MLP, ResNet, InceptionTime and MCDCNN (Multi Channel Deep Convolutional Neural Network)"
   ]
  },
  {
   "cell_type": "code",
   "execution_count": 4,
   "metadata": {},
   "outputs": [
    {
     "name": "stderr",
     "output_type": "stream",
     "text": [
      "2022-07-05 21:35:25.166029: E tensorflow/stream_executor/cuda/cuda_driver.cc:271] failed call to cuInit: CUDA_ERROR_UNKNOWN: unknown error\n",
      "2022-07-05 21:35:25.166053: I tensorflow/stream_executor/cuda/cuda_diagnostics.cc:169] retrieving CUDA diagnostic information for host: tobi-legion\n",
      "2022-07-05 21:35:25.166057: I tensorflow/stream_executor/cuda/cuda_diagnostics.cc:176] hostname: tobi-legion\n",
      "2022-07-05 21:35:25.166135: I tensorflow/stream_executor/cuda/cuda_diagnostics.cc:200] libcuda reported version is: 515.43.4\n",
      "2022-07-05 21:35:25.166150: I tensorflow/stream_executor/cuda/cuda_diagnostics.cc:204] kernel reported version is: 515.43.4\n",
      "2022-07-05 21:35:25.166153: I tensorflow/stream_executor/cuda/cuda_diagnostics.cc:310] kernel version seems to match DSO: 515.43.4\n",
      "2022-07-05 21:35:25.166348: I tensorflow/core/platform/cpu_feature_guard.cc:151] This TensorFlow binary is optimized with oneAPI Deep Neural Network Library (oneDNN) to use the following CPU instructions in performance-critical operations:  AVX2 FMA\n",
      "To enable them in other operations, rebuild TensorFlow with the appropriate compiler flags.\n"
     ]
    },
    {
     "ename": "AttributeError",
     "evalue": "'InceptionTimeClassifier' object has no attribute '_score'",
     "output_type": "error",
     "traceback": [
      "\u001B[0;31m---------------------------------------------------------------------------\u001B[0m",
      "\u001B[0;31mAttributeError\u001B[0m                            Traceback (most recent call last)",
      "Input \u001B[0;32mIn [4]\u001B[0m, in \u001B[0;36m<cell line: 3>\u001B[0;34m()\u001B[0m\n\u001B[1;32m      1\u001B[0m network \u001B[38;5;241m=\u001B[39m InceptionTimeClassifier(n_epochs\u001B[38;5;241m=\u001B[39m\u001B[38;5;241m200\u001B[39m, verbose\u001B[38;5;241m=\u001B[39m\u001B[38;5;28;01mFalse\u001B[39;00m)\n\u001B[1;32m      2\u001B[0m network\u001B[38;5;241m.\u001B[39m_fit(X_train, y_train)\n\u001B[0;32m----> 3\u001B[0m \u001B[43mnetwork\u001B[49m\u001B[38;5;241;43m.\u001B[39;49m\u001B[43m_score\u001B[49m(X_test, y_test)\n",
      "\u001B[0;31mAttributeError\u001B[0m: 'InceptionTimeClassifier' object has no attribute '_score'"
     ]
    }
   ],
   "source": [
    "network = InceptionTimeClassifier(n_epochs=200, verbose=False)\n",
    "network._fit(X_train, y_train)\n",
    "network._score(X_test, y_test)"
   ]
  },
  {
   "cell_type": "markdown",
   "metadata": {},
   "source": [
    "# Grid Search\n",
    "sktime-dl is compatible with scikit-learn and can use sklearn's GridSearchCV.\n",
    "\n",
    "Here we search over two parameters, CNN kernel size and pooling size."
   ]
  },
  {
   "cell_type": "code",
   "execution_count": null,
   "metadata": {},
   "outputs": [],
   "source": [
    "param_grid = {'kernel_size': [7, 9],\n",
    "              'avg_pool_size': [3, 5]}\n",
    "grid = GridSearchCV(network, param_grid=param_grid, cv=5)   \n",
    "grid.fit(X_train, y_train)\n",
    "    \n",
    "print(\"Best cross-validation accuracy: {:.2f}\".format(grid.best_score_))\n",
    "print(\"Test set score: {:.2f}\".format(grid.score(X_test, y_test)))\n",
    "print(\"Best parameters: {}\".format(grid.best_params_))"
   ]
  }
 ],
 "metadata": {
  "file_extension": ".py",
  "kernelspec": {
   "name": "python3",
   "language": "python",
   "display_name": "Python 3 (ipykernel)"
  },
  "language_info": {
   "codemirror_mode": {
    "name": "ipython",
    "version": 3
   },
   "file_extension": ".py",
   "mimetype": "text/x-python",
   "name": "python",
   "nbconvert_exporter": "python",
   "pygments_lexer": "ipython3",
   "version": "3.7.5"
  },
  "mimetype": "text/x-python",
  "name": "python",
  "npconvert_exporter": "python",
  "pygments_lexer": "ipython3",
  "version": 3
 },
 "nbformat": 4,
 "nbformat_minor": 2
}